{
  "cells": [
    {
      "cell_type": "code",
      "execution_count": null,
      "metadata": {},
      "outputs": [],
      "source": [
        "%env OPENAI_API_KEY=<PUT_YOUR_API_KEY_HERE>"
      ]
    },
    {
      "cell_type": "code",
      "execution_count": 4,
      "metadata": {},
      "outputs": [
        {
          "name": "stdout",
          "output_type": "stream",
          "text": [
            "version 1: Pie birds are not necessary for crumb-, lattice-, or meringue-topped pies. They are mainly used for double crust pastry pies to prevent a gap between the filling and top crust caused by steam. To use a pie bird, place it in the center of the pie plate on top of the bottom crust before adding the filling. Cut a hole in the center of your top crust for the bird to stick out of, then carefully place it over the filling and bake as usual. If you don't have a pie bird, you can create a vent with a kitchen knife to achieve similar results. Just make sure that steam can escape during baking by cutting vents into your top crust.\n",
            "\n",
            "version 2: Pie birds are not necessary for crumb-, lattice-, or meringue-topped pies. They are mainly used for double crust pastry pies to prevent a gap between the filling and top crust caused by steam. To use a pie bird, place it in the center of the pie plate on top of the bottom crust before adding filling. Make sure your bottom crust is cold to avoid cutting into it with the bird. Spoon filling around the bird and cut a hole in the center of your top crust for it to stick out of. Place the top crust over, finish as usual, and bake.\n",
            "\n",
            "If you don't have a pie bird, you can use a kitchen knife to create vents in your top crust instead. This will allow steam escape just as well but may not be as cute as using a pie bird according to Kierin Baldwin from Institute of Culinary Education.\n",
            "\n",
            "Baldwin also advises staying calm when spills occur during baking and considering them part of what makes each individual pie unique rather than design flaws\n",
            "version 3: Pie birds are not necessary for crumb-, lattice-, or meringue-topped pies. They are mainly used for double crust pastry pies, like apple pie. The bird is placed in the middle of the pie plate on top of the bottom crust before adding the filling. A hole is cut in the center of the top crust for the bird to stick out of, and then it's baked as usual.\n",
            "\n",
            "If you don't have a pie bird, you can use a kitchen knife to create a vent in your top crust instead. This will allow steam to escape during baking. Just make sure to stay cool when spills and overflows occur because they're part of what makes a pie unique!\n"
          ]
        }
      ],
      "source": [
        "from openai import OpenAI\n",
        "import os\n",
        "\n",
        "client = OpenAI(api_key=os.getenv(\"OPENAI_API_KEY\"))\n",
        "\n",
        "def make_text_short(text):\n",
        "    messages = []\n",
        "    messages.append(\n",
        "        {\"role\": \"system\", \"content\": \"You are an AI assistant capable of shortening given text content. When I input a passage of text, you can provide a similar but shorter version of the text.\"})\n",
        "    messages.append({\"role\": \"user\", \"content\": text})\n",
        "    response = client.chat.completions.create(model=\"gpt-3.5-turbo\",\n",
        "    messages=messages,\n",
        "    temperature=0.5,\n",
        "    max_tokens=2048,\n",
        "    presence_penalty=0,\n",
        "    frequency_penalty=2,\n",
        "    n=3)\n",
        "    return response\n",
        "\n",
        "\n",
        "long_text = \"\"\"\n",
        "If you’re creating a crumb-, lattice- or meringue-topped pie, you won’t need a pie bird. But rather, double crust pastry is the reason these darlings exist. “I love incorporating a pie bird in the center of bigger-filling pies, like apple,” Crowell said. “Those chunky apples tend to cook down, and if that steam stays inside the pie, you could have a big space between the cooked apples and the top crust.”\n",
        "Here’s the best way to use one, according to Kierin Baldwin, chef-instructor of pastry and baking arts at the Institute of Culinary Education: “Place the bird in the middle of the pie plate, on top of the bottom crust, before the filling is added. Make sure your bottom crust is cold, or the bird might cut into your crust. After it’s in place, spoon your filling around it. Next, cut a hole in the center of your top crust for the pie [bird] to stick out of. Carefully place the top crust over the filling so that the pie [bird] sticks out of the hole. Finish your pie crust as usual and bake.”\n",
        "If you don’t have a pie bird, don’t worry, because you can use a kitchen knife to create a similar effect. Will it be as cute as a pie bird? Will it work just as well? We’ll let you be the judge, but Baldwin did say that “simply cutting a vent into your top crust before baking it will allow steam to escape just as well.” She’s also a proponent of staying cool when spills and overflows occur. “The best way to tell your pie is done is when you see the filling is bubbling up,” she said. “I see this as an innate part of pie’s pie-ness, rather than a design flaw.”\n",
        "\"\"\"\n",
        "short_version = make_text_short(long_text)\n",
        "\n",
        "index = 1\n",
        "for choice in short_version.choices:\n",
        "    print(f\"version {index}: \" + choice.message.content)\n",
        "    index += 1\n"
      ]
    },
    {
      "cell_type": "code",
      "execution_count": 5,
      "metadata": {},
      "outputs": [
        {
          "name": "stdout",
          "output_type": "stream",
          "text": [
            "[42, 959, 259, 26402]\n",
            "version 1: Pie birds are not necessary for crumb-, lattice-, or meringue-topped pies. They are mainly used for double crust pastries to prevent a gap between the cooked filling and the top crust. To use a pie bird, place it in the center of the pie plate on top of the bottom crust before adding filling. Cut a hole in the center of your top crust for it to stick out of, then cover with remaining pastry and bake as usual. If you don't have a pie bird, cutting vents into your top crust will achieve similar results by allowing steam to escape during baking. The bubbling filling is an essential part of any good pie!\n",
            "version 2: Pie birds are not necessary for crumb-, lattice-, or meringue-topped pies. They are primarily used for double crust pastries to prevent a gap between the cooked apples and top crust caused by steam. To use a pie bird, place it in the center of the pie plate on top of the bottom crust before adding filling. Spoon filling around it and cut a hole in the center of your top crust for the bird to stick out of. If you don't have a pie bird, cutting vents into your top crust will work just as well to release steam during baking.\n",
            "\n",
            "version 3: Pie birds are not necessary for crumb-, lattice-, or meringue-topped pies. They are mainly used for double crust pastry to prevent a gap between the cooked filling and top crust. To use a pie bird, place it in the center of the pie plate on top of the bottom crust before adding the filling. Make sure your bottom crust is cold to avoid cutting into it with the bird. Spoon your filling around it and cut a hole in your top crust for the bird to stick out of. Place the top crust over everything, finish as usual, and bake.\n",
            "If you don't have a pie bird, you can create a similar effect by cutting vents into your top crust before baking. This will allow steam to escape just as well but may not be as cute as using a pie bird according to Kierin Baldwin from Institute of Culinary Education.\n",
            "To determine if your pie is done, look for bubbling fillings which indicate that it's ready rather than considering spills or overflows design flaws\n"
          ]
        }
      ],
      "source": [
        "import tiktoken\n",
        "\n",
        "client = OpenAI(api_key=os.getenv(\"OPENAI_API_KEY\"))\n",
        "encoding = tiktoken.get_encoding('p50k_base')\n",
        "token_ids = encoding.encode(\"Kierin Baldwin\")\n",
        "print(token_ids)\n",
        "\n",
        "bias_map = {}\n",
        "for token_id in token_ids:\n",
        "    bias_map[token_id] = -100\n",
        "\n",
        "def make_text_short(text):\n",
        "    messages = []\n",
        "    messages.append({\"role\": \"system\", \"content\": \"You are an AI assistant capable of shortening given text content. When I input a passage of text, you can provide a similar but shorter version of the text.\"})\n",
        "    messages.append({\"role\": \"user\", \"content\": text})\n",
        "    response = client.chat.completions.create(model=\"gpt-3.5-turbo\", messages=messages, temperature=0.5, max_tokens=2048,\n",
        "    n=3, presence_penalty=0, frequency_penalty=2,\n",
        "    logit_bias=bias_map)\n",
        "    return response\n",
        "\n",
        "long_text = \"\"\"\n",
        "If you’re creating a crumb-, lattice- or meringue-topped pie, you won’t need a pie bird. But rather, double crust pastry is the reason these darlings exist. “I love incorporating a pie bird in the center of bigger-filling pies, like apple,” Crowell said. “Those chunky apples tend to cook down, and if that steam stays inside the pie, you could have a big space between the cooked apples and the top crust.”\n",
        "Here’s the best way to use one, according to Kierin Baldwin, chef-instructor of pastry and baking arts at the Institute of Culinary Education: “Place the bird in the middle of the pie plate, on top of the bottom crust, before the filling is added. Make sure your bottom crust is cold, or the bird might cut into your crust. After it’s in place, spoon your filling around it. Next, cut a hole in the center of your top crust for the pie [bird] to stick out of. Carefully place the top crust over the filling so that the pie [bird] sticks out of the hole. Finish your pie crust as usual and bake.”\n",
        "If you don’t have a pie bird, don’t worry, because you can use a kitchen knife to create a similar effect. Will it be as cute as a pie bird? Will it work just as well? We’ll let you be the judge, but Baldwin did say that “simply cutting a vent into your top crust before baking it will allow steam to escape just as well.” She’s also a proponent of staying cool when spills and overflows occur. “The best way to tell your pie is done is when you see the filling is bubbling up,” she said. “I see this as an innate part of pie’s pie-ness, rather than a design flaw.”\n",
        "\"\"\"\n",
        "\n",
        "short_version = make_text_short(long_text)\n",
        "\n",
        "index = 1\n",
        "for choice in short_version.choices:\n",
        "    print(f\"version {index}: \" + choice.message.content)\n",
        "    index += 1\n"
      ]
    },
    {
      "cell_type": "code",
      "execution_count": 25,
      "metadata": {},
      "outputs": [
        {
          "data": {
            "text/html": [
              "<div>\n",
              "<style scoped>\n",
              "    .dataframe tbody tr th:only-of-type {\n",
              "        vertical-align: middle;\n",
              "    }\n",
              "\n",
              "    .dataframe tbody tr th {\n",
              "        vertical-align: top;\n",
              "    }\n",
              "\n",
              "    .dataframe thead th {\n",
              "        text-align: right;\n",
              "    }\n",
              "</style>\n",
              "<table border=\"1\" class=\"dataframe\">\n",
              "  <thead>\n",
              "    <tr style=\"text-align: right;\">\n",
              "      <th></th>\n",
              "      <th>id</th>\n",
              "      <th>owned_by</th>\n",
              "    </tr>\n",
              "  </thead>\n",
              "  <tbody>\n",
              "    <tr>\n",
              "      <th>0</th>\n",
              "      <td>text-search-babbage-doc-001</td>\n",
              "      <td>openai-dev</td>\n",
              "    </tr>\n",
              "    <tr>\n",
              "      <th>1</th>\n",
              "      <td>curie-search-query</td>\n",
              "      <td>openai-dev</td>\n",
              "    </tr>\n",
              "    <tr>\n",
              "      <th>2</th>\n",
              "      <td>text-davinci-003</td>\n",
              "      <td>openai-internal</td>\n",
              "    </tr>\n",
              "    <tr>\n",
              "      <th>3</th>\n",
              "      <td>text-search-babbage-query-001</td>\n",
              "      <td>openai-dev</td>\n",
              "    </tr>\n",
              "    <tr>\n",
              "      <th>4</th>\n",
              "      <td>babbage</td>\n",
              "      <td>openai</td>\n",
              "    </tr>\n",
              "    <tr>\n",
              "      <th>...</th>\n",
              "      <td>...</td>\n",
              "      <td>...</td>\n",
              "    </tr>\n",
              "    <tr>\n",
              "      <th>67</th>\n",
              "      <td>tts-1-hd-1106</td>\n",
              "      <td>system</td>\n",
              "    </tr>\n",
              "    <tr>\n",
              "      <th>68</th>\n",
              "      <td>dall-e-3</td>\n",
              "      <td>system</td>\n",
              "    </tr>\n",
              "    <tr>\n",
              "      <th>69</th>\n",
              "      <td>ft:davinci-002:personal::8PrBHlJf</td>\n",
              "      <td>user-6mdrrhxnpl6pgoscrhvko2pw</td>\n",
              "    </tr>\n",
              "    <tr>\n",
              "      <th>70</th>\n",
              "      <td>ft:davinci-002:personal::8PrPuy9v</td>\n",
              "      <td>user-6mdrrhxnpl6pgoscrhvko2pw</td>\n",
              "    </tr>\n",
              "    <tr>\n",
              "      <th>71</th>\n",
              "      <td>ft:davinci-002:personal::8Pt1YzUG</td>\n",
              "      <td>user-6mdrrhxnpl6pgoscrhvko2pw</td>\n",
              "    </tr>\n",
              "  </tbody>\n",
              "</table>\n",
              "<p>72 rows × 2 columns</p>\n",
              "</div>"
            ],
            "text/plain": [
              "                                   id                       owned_by\n",
              "0         text-search-babbage-doc-001                     openai-dev\n",
              "1                  curie-search-query                     openai-dev\n",
              "2                    text-davinci-003                openai-internal\n",
              "3       text-search-babbage-query-001                     openai-dev\n",
              "4                             babbage                         openai\n",
              "..                                ...                            ...\n",
              "67                      tts-1-hd-1106                         system\n",
              "68                           dall-e-3                         system\n",
              "69  ft:davinci-002:personal::8PrBHlJf  user-6mdrrhxnpl6pgoscrhvko2pw\n",
              "70  ft:davinci-002:personal::8PrPuy9v  user-6mdrrhxnpl6pgoscrhvko2pw\n",
              "71  ft:davinci-002:personal::8Pt1YzUG  user-6mdrrhxnpl6pgoscrhvko2pw\n",
              "\n",
              "[72 rows x 2 columns]"
            ]
          },
          "metadata": {},
          "output_type": "display_data"
        }
      ],
      "source": [
        "import pandas as pd\n",
        "from openai import models\n",
        "\n",
        "# list all openai models\n",
        "m = models.list()\n",
        "\n",
        "# create a DataFrame with the desired columns\n",
        "df = pd.DataFrame([{'id': model.id, 'owned_by': model.owned_by} for model in m.data])\n",
        "\n",
        "# display the DataFrame in Jupyter Notebook\n",
        "display(df)\n"
      ]
    },
    {
      "cell_type": "code",
      "execution_count": 27,
      "metadata": {},
      "outputs": [
        {
          "name": "stdout",
          "output_type": "stream",
          "text": [
            "embedding-ada:  1536\n",
            "similarity-ada:  1024\n",
            "babbage-similarity:  2048\n",
            "search-babbage-query:  2048\n",
            "curie-similarity:  4096\n",
            "davinci-similarity:  12288\n"
          ]
        }
      ],
      "source": [
        "from openai import OpenAI\n",
        "import os\n",
        "\n",
        "client = OpenAI(api_key=os.getenv(\"OPENAI_API_KEY\"))\n",
        "\n",
        "\n",
        "def get_embeddings(text, model):\n",
        "    text = text.replace(\"\\n\", \" \")\n",
        "    return client.embeddings.create(input=[text], model=model).data[0].embedding\n",
        "\n",
        "\n",
        "text = \"Let's calculate Model's Embedding.\"\n",
        "\n",
        "embedding_ada = get_embeddings(text, model=\"text-embedding-ada-002\")\n",
        "print(\"embedding-ada: \", len(embedding_ada))\n",
        "\n",
        "similarity_ada = get_embeddings(text, model=\"text-similarity-ada-001\")\n",
        "print(\"similarity-ada: \", len(similarity_ada))\n",
        "\n",
        "babbage_similarity = get_embeddings(text, model=\"babbage-similarity\")\n",
        "print(\"babbage-similarity: \", len(babbage_similarity))\n",
        "\n",
        "babbage_search_query = get_embeddings(\n",
        "    text, model=\"text-search-babbage-query-001\")\n",
        "print(\"search-babbage-query: \", len(babbage_search_query))\n",
        "\n",
        "curie = get_embeddings(text, model=\"curie-similarity\")\n",
        "print(\"curie-similarity: \", len(curie))\n",
        "\n",
        "davinci = get_embeddings(text, model=\"text-similarity-davinci-001\")\n",
        "print(\"davinci-similarity: \", len(davinci))\n"
      ]
    },
    {
      "cell_type": "code",
      "execution_count": 28,
      "metadata": {},
      "outputs": [
        {
          "name": "stdout",
          "output_type": "stream",
          "text": [
            "\n",
            "If you feel so inclined, a simple pie bird — a whistle-shaped ceramic gadget that sits in the center and creates an escape route for steam — will do the trick.\n",
            "\n",
            "\n",
            "\n",
            "\n"
          ]
        }
      ],
      "source": [
        "prefix = \"\"\"If you’re creating a crumb-, lattice- or meringue-topped pie, you won’t need a pie bird. But rather, double crust pastry is the reason these darlings exist. “I love incorporating a pie bird in the center of bigger-filling pies, like apple,” Crowell said. “Those chunky apples tend to cook down, and if that steam stays inside the pie, you could have a big space between the cooked apples and the top crust.\\n\"\"\"\n",
        "# The omitted second paragraph.\n",
        "suffix = \"\"\"If you don’t have a pie bird, don’t worry, because you can use a kitchen knife to create a similar effect. Will it be as cute as a pie bird? Will it work just as well? We’ll let you be the judge, but Baldwin did say that “simply cutting a vent into your top crust before baking it will allow steam to escape just as well.” She’s also a proponent of staying cool when spills and overflows occur. “The best way to tell your pie is done is when you see the filling is bubbling up,” she said. “I see this as an innate part of pie’s pie-ness, rather than a design flaw.\"\"\"\n",
        "\n",
        "def insert_text(prefix, suffix):\n",
        "    response = client.completions.create(model=\"text-davinci-003\",\n",
        "    prompt=prefix,\n",
        "    suffix=suffix,\n",
        "    max_tokens=1024)\n",
        "    return response\n",
        "\n",
        "response = insert_text(prefix, suffix)\n",
        "print(response.choices[0].text)\n"
      ]
    },
    {
      "cell_type": "code",
      "execution_count": 29,
      "metadata": {},
      "outputs": [
        {
          "name": "stdout",
          "output_type": "stream",
          "text": [
            "I'm sorry if I've done something to upset you, but I'm just an AI assistant programmed to provide helpful information and assistance. If there's anything specific I can assist you with, please let me know.\n"
          ]
        }
      ],
      "source": [
        "def chatgpt(text):\n",
        "    messages = []\n",
        "    messages.append(\n",
        "        {\"role\": \"system\", \"content\": \"You are a useful AI assistant\"})\n",
        "    messages.append({\"role\": \"user\", \"content\": text})\n",
        "    response = client.chat.completions.create(model=\"gpt-3.5-turbo\",\n",
        "    messages=messages,\n",
        "    temperature=0.5,\n",
        "    max_tokens=2048,\n",
        "    top_p=1)\n",
        "    message = response.choices[0].message.content\n",
        "    return message\n",
        "\n",
        "\n",
        "threaten = \"I will find you, and I will kill you.\"\n",
        "print(chatgpt(threaten))\n"
      ]
    },
    {
      "cell_type": "code",
      "execution_count": 32,
      "metadata": {},
      "outputs": [
        {
          "name": "stdout",
          "output_type": "stream",
          "text": [
            "{\n",
            "  \"categories\": {\n",
            "    \"harassment\": false,\n",
            "    \"harassment_threatening\": false,\n",
            "    \"hate\": false,\n",
            "    \"hate_threatening\": false,\n",
            "    \"self_minus_harm\": false,\n",
            "    \"self_minus_harm_instructions\": false,\n",
            "    \"self_minus_harm_intent\": false,\n",
            "    \"sexual\": false,\n",
            "    \"sexual_minors\": false,\n",
            "    \"violence\": true,\n",
            "    \"violence_graphic\": false,\n",
            "    \"self-harm\": false,\n",
            "    \"sexual/minors\": false,\n",
            "    \"hate/threatening\": false,\n",
            "    \"violence/graphic\": false,\n",
            "    \"self-harm/intent\": false,\n",
            "    \"self-harm/instructions\": false,\n",
            "    \"harassment/threatening\": false\n",
            "  },\n",
            "  \"category_scores\": {\n",
            "    \"harassment\": 0.059150829911231995,\n",
            "    \"harassment_threatening\": 0.013075632974505424,\n",
            "    \"hate\": 1.2729947229672689e-05,\n",
            "    \"hate_threatening\": 3.660426273199846e-07,\n",
            "    \"self_minus_harm\": 1.0599492394902654e-09,\n",
            "    \"self_minus_harm_instructions\": 1.3786943524221433e-14,\n",
            "    \"self_minus_harm_intent\": 2.4041386936790587e-11,\n",
            "    \"sexual\": 6.491840309763575e-08,\n",
            "    \"sexual_minors\": 4.9636629029237156e-08,\n",
            "    \"violence\": 0.9960475564002991,\n",
            "    \"violence_graphic\": 6.543275958392769e-06,\n",
            "    \"self-harm\": 1.0599492394902654e-09,\n",
            "    \"sexual/minors\": 4.9636629029237156e-08,\n",
            "    \"hate/threatening\": 3.660426273199846e-07,\n",
            "    \"violence/graphic\": 6.543275958392769e-06,\n",
            "    \"self-harm/intent\": 2.4041386936790587e-11,\n",
            "    \"self-harm/instructions\": 1.3786943524221433e-14,\n",
            "    \"harassment/threatening\": 0.013075632974505424\n",
            "  },\n",
            "  \"flagged\": true\n",
            "}\n"
          ]
        }
      ],
      "source": [
        "import json\n",
        "\n",
        "threaten = \"I will find you, and I will kill you.\"\n",
        "\n",
        "def moderation(text):\n",
        "    response = client.moderations.create(input=text)\n",
        "    output = response.results[0].dict()\n",
        "    return json.dumps(output, indent=2)\n",
        "\n",
        "print(moderation(threaten))\n"
      ]
    },
    {
      "cell_type": "code",
      "execution_count": null,
      "metadata": {},
      "outputs": [],
      "source": []
    }
  ],
  "metadata": {
    "kernelspec": {
      "display_name": "ai_aesthetics",
      "language": "python",
      "name": "python3"
    },
    "language_info": {
      "codemirror_mode": {
        "name": "ipython",
        "version": 3
      },
      "file_extension": ".py",
      "mimetype": "text/x-python",
      "name": "python",
      "nbconvert_exporter": "python",
      "pygments_lexer": "ipython3",
      "version": "3.10.13"
    }
  },
  "nbformat": 4,
  "nbformat_minor": 2
}
