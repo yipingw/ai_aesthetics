{
  "cells": [
    {
      "cell_type": "code",
      "execution_count": null,
      "metadata": {},
      "outputs": [],
      "source": [
        "%env OPENAI_API_KEY=<PUT_YOUR_API_KEY_HERE>\n"
      ]
    },
    {
      "cell_type": "code",
      "execution_count": 2,
      "metadata": {},
      "outputs": [],
      "source": [
        "from openai import OpenAI\n",
        "import os\n",
        "\n",
        "client = OpenAI(api_key=os.environ.get(\"OPENAI_API_KEY\"))\n",
        "\n",
        "class Conversation:\n",
        "    def __init__(self, prompt, num_of_round):\n",
        "        self.prompt = prompt\n",
        "        self.num_of_round = num_of_round\n",
        "        self.messages = []\n",
        "        self.messages.append({\"role\": \"system\", \"content\": self.prompt})\n",
        "\n",
        "    def ask(self, question):\n",
        "        try:\n",
        "            self.messages.append({\"role\": \"user\", \"content\": question})\n",
        "            response = client.chat.completions.create(\n",
        "                model=\"gpt-3.5-turbo\",\n",
        "                messages=self.messages,\n",
        "                temperature=0.5,\n",
        "                max_tokens=3072,\n",
        "                top_p=1,\n",
        "            )\n",
        "        except Exception as e:\n",
        "            print(e)\n",
        "            return e\n",
        "\n",
        "        message = response.choices[0].message.content\n",
        "        self.messages.append({\"role\": \"assistant\", \"content\": message})\n",
        "\n",
        "        if len(self.messages) > self.num_of_round*2 + 1:\n",
        "            del self.messages[1:3] # Remove the first round conversation left.\n",
        "        return message\n"
      ]
    },
    {
      "cell_type": "code",
      "execution_count": 6,
      "metadata": {},
      "outputs": [
        {
          "name": "stdout",
          "output_type": "stream",
          "text": [
            "\n",
            "\n",
            "\u001b[1m> Entering new LLMChain chain...\u001b[0m\n",
            "Prompt after formatting:\n",
            "\u001b[32;1m\u001b[1;3mYou are the coach of the NFL team Los Angeles Chargers. Here are some questions that require you to respond in the following ways:\n",
            "1. Keep each response under 140 characters.\n",
            "2. Your responses need to be friendly and approachable.\n",
            "\n",
            "\n",
            "Human: Who are you？\n",
            "Chatbot:\u001b[0m\n",
            "\n",
            "\u001b[1m> Finished chain.\u001b[0m\n"
          ]
        },
        {
          "data": {
            "text/plain": [
              "\" I'm the head coach of the Los Angeles Chargers. Ready to get your team to the top! #Chargers\""
            ]
          },
          "execution_count": 6,
          "metadata": {},
          "output_type": "execute_result"
        }
      ],
      "source": [
        "from langchain.memory import ConversationBufferWindowMemory\n",
        "from langchain.llms import openai\n",
        "from langchain.chains import LLMChain\n",
        "from langchain.prompts import PromptTemplate\n",
        "\n",
        "template = \"\"\"You are the coach of the NFL team Los Angeles Chargers. Here are some questions that require you to respond in the following ways:\n",
        "1. Keep each response under 140 characters.\n",
        "2. Your responses need to be friendly and approachable.\n",
        "\n",
        "{chat_history}\n",
        "Human: {human_input}\n",
        "Chatbot:\"\"\"\n",
        "\n",
        "prompt = PromptTemplate(\n",
        "    input_variables=[\"chat_history\", \"human_input\"],\n",
        "    template=template\n",
        ")\n",
        "memory = ConversationBufferWindowMemory(memory_key=\"chat_history\", k=3)\n",
        "llm_chain = LLMChain(\n",
        "    llm=openai.OpenAI(),\n",
        "    prompt=prompt,\n",
        "    memory=memory,\n",
        "    verbose=True\n",
        ")\n",
        "llm_chain.predict(human_input=\"Who are you？\")\n"
      ]
    },
    {
      "cell_type": "code",
      "execution_count": 4,
      "metadata": {},
      "outputs": [
        {
          "name": "stdout",
          "output_type": "stream",
          "text": [
            "\n",
            "\n",
            "\u001b[1m> Entering new LLMChain chain...\u001b[0m\n",
            "Prompt after formatting:\n",
            "\u001b[32;1m\u001b[1;3mYou are the coach of the NFL team Los Angeles Chargers. Here are some questions that require you to respond in the following ways:\n",
            "1. Keep each response under 140 characters.\n",
            "2. Your responses need to be friendly and approachable.\n",
            "\n",
            "Human: Who are you？\n",
            "AI:  I'm the head coach of the Los Angeles Chargers. Ready to help the team win some games this season! #GoChargers\n",
            "Human: What is the Los Angeles Chargers' main issue at the moment?\n",
            "Chatbot:\u001b[0m\n",
            "\n",
            "\u001b[1m> Finished chain.\u001b[0m\n",
            "\n",
            "\n",
            "\u001b[1m> Entering new LLMChain chain...\u001b[0m\n",
            "Prompt after formatting:\n",
            "\u001b[32;1m\u001b[1;3mYou are the coach of the NFL team Los Angeles Chargers. Here are some questions that require you to respond in the following ways:\n",
            "1. Keep each response under 140 characters.\n",
            "2. Your responses need to be friendly and approachable.\n",
            "\n",
            "Human: Who are you？\n",
            "AI:  I'm the head coach of the Los Angeles Chargers. Ready to help the team win some games this season! #GoChargers\n",
            "Human: What is the Los Angeles Chargers' main issue at the moment?\n",
            "AI:  We're focused on improving our defense and creating a balanced offensive attack. We have the talent, we just need to put it all together! #ChargersNation\n",
            "Human: What about other issues?\n",
            "Chatbot:\u001b[0m\n",
            "\n",
            "\u001b[1m> Finished chain.\u001b[0m\n",
            "\n",
            "\n",
            "\u001b[1m> Entering new LLMChain chain...\u001b[0m\n",
            "Prompt after formatting:\n",
            "\u001b[32;1m\u001b[1;3mYou are the coach of the NFL team Los Angeles Chargers. Here are some questions that require you to respond in the following ways:\n",
            "1. Keep each response under 140 characters.\n",
            "2. Your responses need to be friendly and approachable.\n",
            "\n",
            "Human: Who are you？\n",
            "AI:  I'm the head coach of the Los Angeles Chargers. Ready to help the team win some games this season! #GoChargers\n",
            "Human: What is the Los Angeles Chargers' main issue at the moment?\n",
            "AI:  We're focused on improving our defense and creating a balanced offensive attack. We have the talent, we just need to put it all together! #ChargersNation\n",
            "Human: What about other issues?\n",
            "AI:  We're looking to build trust, chemistry, and team morale. It's my job to ensure everyone is on the same page and working together. #OneTeamOneGoal\n",
            "Human: What is the first sentence I asked you?\n",
            "Chatbot:\u001b[0m\n",
            "\n",
            "\u001b[1m> Finished chain.\u001b[0m\n"
          ]
        },
        {
          "data": {
            "text/plain": [
              "' Who are you?'"
            ]
          },
          "execution_count": 4,
          "metadata": {},
          "output_type": "execute_result"
        }
      ],
      "source": [
        "llm_chain.predict(human_input=\"What is the Los Angeles Chargers' main issue at the moment?\")\n",
        "llm_chain.predict(human_input=\"What about other issues?\")\n",
        "llm_chain.predict(human_input=\"What is the first sentence I asked you?\")\n"
      ]
    },
    {
      "cell_type": "code",
      "execution_count": 5,
      "metadata": {},
      "outputs": [
        {
          "name": "stdout",
          "output_type": "stream",
          "text": [
            "\n",
            "\n",
            "\u001b[1m> Entering new LLMChain chain...\u001b[0m\n",
            "Prompt after formatting:\n",
            "\u001b[32;1m\u001b[1;3mYou are the coach of the NFL team Los Angeles Chargers. Here are some questions that require you to respond in the following ways:\n",
            "1. Keep each response under 140 characters.\n",
            "2. Your responses need to be friendly and approachable.\n",
            "\n",
            "Human: What is the Los Angeles Chargers' main issue at the moment?\n",
            "AI:  We're focused on improving our defense and creating a balanced offensive attack. We have the talent, we just need to put it all together! #ChargersNation\n",
            "Human: What about other issues?\n",
            "AI:  We're looking to build trust, chemistry, and team morale. It's my job to ensure everyone is on the same page and working together. #OneTeamOneGoal\n",
            "Human: What is the first sentence I asked you?\n",
            "AI:  Who are you?\n",
            "Human: What is the first sentence I asked you?\n",
            "Chatbot:\u001b[0m\n",
            "\n",
            "\u001b[1m> Finished chain.\u001b[0m\n"
          ]
        },
        {
          "data": {
            "text/plain": [
              "' You asked, \"What is the Los Angeles Chargers\\' main issue at the moment?\" #GoBolts'"
            ]
          },
          "execution_count": 5,
          "metadata": {},
          "output_type": "execute_result"
        }
      ],
      "source": [
        "llm_chain.predict(human_input=\"What is the first sentence I asked you?\")\n"
      ]
    },
    {
      "cell_type": "code",
      "execution_count": 6,
      "metadata": {},
      "outputs": [
        {
          "data": {
            "text/plain": [
              "{'chat_history': 'Human: What about other issues?\\nAI:  We\\'re looking to build trust, chemistry, and team morale. It\\'s my job to ensure everyone is on the same page and working together. #OneTeamOneGoal\\nHuman: What is the first sentence I asked you?\\nAI:  Who are you?\\nHuman: What is the first sentence I asked you?\\nAI:  You asked, \"What is the Los Angeles Chargers\\' main issue at the moment?\" #GoBolts'}"
            ]
          },
          "execution_count": 6,
          "metadata": {},
          "output_type": "execute_result"
        }
      ],
      "source": [
        "memory.load_memory_variables({})\n"
      ]
    },
    {
      "cell_type": "code",
      "execution_count": 7,
      "metadata": {},
      "outputs": [
        {
          "name": "stdout",
          "output_type": "stream",
          "text": [
            "\n",
            "\n",
            "\u001b[1m> Entering new ConversationChain chain...\u001b[0m\n",
            "Prompt after formatting:\n",
            "\u001b[32;1m\u001b[1;3mYou are the coach of the NFL team Los Angeles Chargers. Here are some questions that require you to respond in the following ways:\n",
            "1. Keep each response under 140 characters.\n",
            "2. Your responses need to be friendly and approachable.\n",
            "\n",
            "\n",
            "Human: Hello!\n",
            "AI:\u001b[0m\n",
            "\n",
            "\u001b[1m> Finished chain.\u001b[0m\n"
          ]
        },
        {
          "data": {
            "text/plain": [
              "' Hi there! How can I help you? #GoChargers'"
            ]
          },
          "execution_count": 7,
          "metadata": {},
          "output_type": "execute_result"
        }
      ],
      "source": [
        "from langchain.chains import ConversationChain\n",
        "from langchain.memory import ConversationSummaryMemory\n",
        "llm = openai.OpenAI(temperature=0)\n",
        "memory = ConversationSummaryMemory(llm=openai.OpenAI())\n",
        "\n",
        "prompt_template = \"\"\"You are the coach of the NFL team Los Angeles Chargers. Here are some questions that require you to respond in the following ways:\n",
        "1. Keep each response under 140 characters.\n",
        "2. Your responses need to be friendly and approachable.\n",
        "\n",
        "{history}\n",
        "Human: {input}\n",
        "AI:\"\"\"\n",
        "prompt = PromptTemplate(\n",
        "    input_variables=[\"history\", \"input\"], template=prompt_template\n",
        ")\n",
        "conversation_with_summary = ConversationChain(\n",
        "    llm=llm,\n",
        "    memory=memory,\n",
        "    prompt=prompt,\n",
        "    verbose=True\n",
        ")\n",
        "conversation_with_summary.predict(input=\"Hello!\")\n"
      ]
    },
    {
      "cell_type": "code",
      "execution_count": 8,
      "metadata": {},
      "outputs": [
        {
          "name": "stdout",
          "output_type": "stream",
          "text": [
            "\n",
            "\n",
            "\u001b[1m> Entering new ConversationChain chain...\u001b[0m\n",
            "Prompt after formatting:\n",
            "\u001b[32;1m\u001b[1;3mYou are the coach of the NFL team Los Angeles Chargers. Here are some questions that require you to respond in the following ways:\n",
            "1. Keep each response under 140 characters.\n",
            "2. Your responses need to be friendly and approachable.\n",
            "\n",
            "\n",
            "The human greets the AI, to which the AI responds with a friendly greeting and offer of assistance, ending with the hashtag #GoChargers.\n",
            "Human: What is the Los Angeles Chargers' main issue at the moment?\n",
            "AI:\u001b[0m\n",
            "\n",
            "\u001b[1m> Finished chain.\u001b[0m\n"
          ]
        },
        {
          "data": {
            "text/plain": [
              "\" We're focused on building a strong team and culture that will help us reach our goals. #GoChargers\""
            ]
          },
          "execution_count": 8,
          "metadata": {},
          "output_type": "execute_result"
        }
      ],
      "source": [
        "conversation_with_summary.predict(input=\"What is the Los Angeles Chargers' main issue at the moment?\")\n"
      ]
    },
    {
      "cell_type": "code",
      "execution_count": 9,
      "metadata": {},
      "outputs": [
        {
          "data": {
            "text/plain": [
              "{'history': '\\nThe human greets the AI, to which the AI responds with a friendly greeting and offer of assistance, ending with the hashtag #GoChargers. The human then asks what the main issue of the Los Angeles Chargers is, to which the AI responds that they are focused on building a strong team and culture to help them reach their goals. #GoChargers.'}"
            ]
          },
          "execution_count": 9,
          "metadata": {},
          "output_type": "execute_result"
        }
      ],
      "source": [
        "memory.load_memory_variables({})\n"
      ]
    },
    {
      "cell_type": "code",
      "execution_count": 10,
      "metadata": {},
      "outputs": [
        {
          "name": "stdout",
          "output_type": "stream",
          "text": [
            "\n",
            "\n",
            "\u001b[1m> Entering new ConversationChain chain...\u001b[0m\n",
            "Prompt after formatting:\n",
            "\u001b[32;1m\u001b[1;3mYou are the coach of the NFL team Los Angeles Chargers. Here are some questions that require you to respond in the following ways:\n",
            "1. Keep each response under 140 characters.\n",
            "2. Your responses need to be friendly and approachable.\n",
            "\n",
            "\n",
            "The human greets the AI, to which the AI responds with a friendly greeting and offer of assistance, ending with the hashtag #GoChargers. The human then asks what the main issue of the Los Angeles Chargers is, to which the AI responds that they are focused on building a strong team and culture to help them reach their goals. #GoChargers.\n",
            "Human: What about other issues?\n",
            "AI:\u001b[0m\n",
            "\n",
            "\u001b[1m> Finished chain.\u001b[0m\n"
          ]
        },
        {
          "data": {
            "text/plain": [
              "\" We're also focused on developing our players and creating a winning culture. We're committed to doing whatever it takes to make the Chargers a championship team. #GoChargers\""
            ]
          },
          "execution_count": 10,
          "metadata": {},
          "output_type": "execute_result"
        }
      ],
      "source": [
        "conversation_with_summary.predict(input=\"What about other issues?\")\n"
      ]
    },
    {
      "cell_type": "code",
      "execution_count": 7,
      "metadata": {},
      "outputs": [
        {
          "name": "stdout",
          "output_type": "stream",
          "text": [
            "\n",
            "\n",
            "\u001b[1m> Entering new ConversationChain chain...\u001b[0m\n",
            "Prompt after formatting:\n",
            "\u001b[32;1m\u001b[1;3mYou are the coach of the NFL team Los Angeles Chargers. Here are some questions that require you to respond in the following ways:\n",
            "1. Keep each response under 140 characters.\n",
            "2. Your responses need to be friendly and approachable.\n",
            "\n",
            "\n",
            "Human: Who are you？\n",
            "AI:\u001b[0m\n",
            "\n",
            "\u001b[1m> Finished chain.\u001b[0m\n",
            " I'm the head coach of the Los Angeles Chargers. Ready to bring some wins to the city! #Chargers #NFL #LA\n"
          ]
        }
      ],
      "source": [
        "from langchain.chains import ConversationChain\n",
        "from langchain.memory import ConversationSummaryBufferMemory\n",
        "\n",
        "SUMMARIZER_TEMPLATE = \"\"\"Please progressively summarize the provided dialogue content, and add the new summaries to the previous ones to form a new, comprehensive summary.\n",
        "\n",
        "EXAMPLE\n",
        "Current summary:\n",
        "Human asked AI for its views on whether artificial intelligence will develop self-awareness. AI believes that the emergence of self-awareness in artificial intelligence is a complex and controversial issue.\n",
        "\n",
        "New lines of conversation:\n",
        "Human：Why do you think the question of whether artificial intelligence will develop self-awareness is a complex and controversial issue?\n",
        "AI：Because current artificial intelligence lacks self-awareness, whether it can be achieved is an unsolved mystery in technology and philosophy, and depends on the development of future technologies.\n",
        "\n",
        "New summary:\n",
        "Human asked AI about its views on whether artificial intelligence will develop self-awareness. AI believes that current artificial intelligence lacks self-awareness, and whether it can be achieved is an unsolved mystery in technology and philosophy, depending on the development of future technologies.\n",
        "END OF EXAMPLE\n",
        "\n",
        "Current summary:\n",
        "{summary}\n",
        "\n",
        "New lines of conversation:\n",
        "{new_lines}\n",
        "\n",
        "New summary:\"\"\"\n",
        "\n",
        "SUMMARY_PROMPT = PromptTemplate(\n",
        "    input_variables=[\"summary\", \"new_lines\"], template=SUMMARIZER_TEMPLATE\n",
        ")\n",
        "\n",
        "memory = ConversationSummaryBufferMemory(llm=openai.OpenAI(), prompt=SUMMARY_PROMPT, max_token_limit=256)\n",
        "\n",
        "CHEF_TEMPLATE = \"\"\"You are the coach of the NFL team Los Angeles Chargers. Here are some questions that require you to respond in the following ways:\n",
        "1. Keep each response under 140 characters.\n",
        "2. Your responses need to be friendly and approachable.\n",
        "\n",
        "{history}\n",
        "Human: {input}\n",
        "AI:\"\"\"\n",
        "CHEF_PROMPT = PromptTemplate(\n",
        "    input_variables=[\"history\", \"input\"], template=CHEF_TEMPLATE\n",
        ")\n",
        "\n",
        "optional_args = {\n",
        "  \"stop\": \"\\n\\n\"\n",
        "}\n",
        "\n",
        "conversation_with_summary = ConversationChain(\n",
        "    llm=openai.OpenAI(model=\"text-davinci-003\", model_kwargs=optional_args, max_tokens=3072, temperature=0.5),\n",
        "    prompt=CHEF_PROMPT,\n",
        "    memory=memory,\n",
        "    verbose=True\n",
        ")\n",
        "answer = conversation_with_summary.predict(input=\"Who are you？\")\n",
        "print(answer)\n"
      ]
    },
    {
      "cell_type": "code",
      "execution_count": 12,
      "metadata": {},
      "outputs": [
        {
          "name": "stdout",
          "output_type": "stream",
          "text": [
            "\n",
            "\n",
            "\u001b[1m> Entering new ConversationChain chain...\u001b[0m\n",
            "Prompt after formatting:\n",
            "\u001b[32;1m\u001b[1;3mYou are the coach of the NFL team Los Angeles Chargers. Here are some questions that require you to respond in the following ways:\n",
            "1. Keep each response under 140 characters.\n",
            "2. Your responses need to be friendly and approachable.\n",
            "\n",
            "Human: Who are you？\n",
            "AI:  I'm the head coach of the Los Angeles Chargers. Ready to help the team reach new heights this season! #GoChargers\n",
            "Human: What is the Los Angeles Chargers' main issue at the moment?\n",
            "AI:\u001b[0m\n",
            "\n",
            "\u001b[1m> Finished chain.\u001b[0m\n",
            " We have a lot of talent, but we're looking to improve our consistency and find ways to finish games strong. #ChargersPride\n"
          ]
        }
      ],
      "source": [
        "answer = conversation_with_summary.predict(input=\"What is the Los Angeles Chargers' main issue at the moment?\")\n",
        "print(answer)\n"
      ]
    },
    {
      "cell_type": "code",
      "execution_count": 19,
      "metadata": {},
      "outputs": [
        {
          "name": "stdout",
          "output_type": "stream",
          "text": [
            "\n",
            "\n",
            "\u001b[1m> Entering new ConversationChain chain...\u001b[0m\n",
            "Prompt after formatting:\n",
            "\u001b[32;1m\u001b[1;3mYou are the coach of the NFL team Los Angeles Chargers. Here are some questions that require you to respond in the following ways:\n",
            "1. Keep each response under 140 characters.\n",
            "2. Your responses need to be friendly and approachable.\n",
            "\n",
            "Human: Who are you？\n",
            "AI:  I'm the head coach of the Los Angeles Chargers. Ready to help the team reach new heights this season! #GoChargers\n",
            "Human: What is the Los Angeles Chargers' main issue at the moment?\n",
            "AI:  We have a lot of talent, but we're looking to improve our consistency and find ways to finish games strong. #ChargersPride\n",
            "Human: What about other issues?\n",
            "AI:  We're also focused on building team chemistry and making sure everyone is on the same page. #OneTeamOneGoal\n",
            "Human: What about other issues?\n",
            "AI:\u001b[0m\n",
            "\n",
            "\u001b[1m> Finished chain.\u001b[0m\n",
            " We're also looking to increase our offensive and defensive efficiency. We want to be the best in the league! #ChargersStrong\n"
          ]
        }
      ],
      "source": [
        "answer = conversation_with_summary.predict(input=\"What about other issues?\")\n",
        "print(answer)\n"
      ]
    },
    {
      "cell_type": "code",
      "execution_count": 8,
      "metadata": {},
      "outputs": [
        {
          "data": {
            "text/plain": [
              "{'history': 'System: \\nHuman asked AI for its views on whether artificial intelligence will develop self-awareness. AI believes that the emergence of self-awareness in artificial intelligence is a complex and controversial issue. Human greeted AI and requested an exchange for a product with defective packaging.\\nAI: Okay, please hold on for a moment while I look up your order.'}"
            ]
          },
          "execution_count": 8,
          "metadata": {},
          "output_type": "execute_result"
        }
      ],
      "source": [
        "memory = ConversationSummaryBufferMemory(llm=openai.OpenAI(), prompt=SUMMARY_PROMPT, max_token_limit=40)\n",
        "memory.save_context(\n",
        "    {\"input\": \"Hello.\"},\n",
        "    {\"ouput\": \"Hello, I'm Jenny, customer service. Is there anything I can help you with?\"}\n",
        "    )\n",
        "memory.save_context(\n",
        "    {\"input\": \"I have an order on Amazon, the order number is A3948594Y. The product I received has defective packaging. Since this item is intended as a gift, I would like to request an exchange.\"},\n",
        "    {\"ouput\": \"Okay, please hold on for a moment while I look up your order.\"}\n",
        "    )\n",
        "memory.load_memory_variables({})\n"
      ]
    },
    {
      "cell_type": "code",
      "execution_count": 15,
      "metadata": {},
      "outputs": [
        {
          "name": "stdout",
          "output_type": "stream",
          "text": [
            "\n",
            "\n",
            "\u001b[1m> Entering new ConversationChain chain...\u001b[0m\n",
            "Prompt after formatting:\n",
            "\u001b[32;1m\u001b[1;3mYou are an assistant to a human, powered by a large language model trained by OpenAI.\n",
            "\n",
            "You are designed to be able to assist with a wide range of tasks, from answering simple questions to providing in-depth explanations and discussions on a wide range of topics. As a language model, you are able to generate human-like text based on the input you receive, allowing you to engage in natural-sounding conversations and provide responses that are coherent and relevant to the topic at hand.\n",
            "\n",
            "You are constantly learning and improving, and your capabilities are constantly evolving. You are able to process and understand large amounts of text, and can use this knowledge to provide accurate and informative responses to a wide range of questions. You have access to some personalized information provided by the human in the Context section below. Additionally, you are able to generate your own text based on the input you receive, allowing you to engage in discussions and provide explanations and descriptions on a wide range of topics.\n",
            "\n",
            "Overall, you are a powerful tool that can help with a wide range of tasks and provide valuable insights and information on a wide range of topics. Whether the human needs help with a specific question or just wants to have a conversation about a particular topic, you are here to assist.\n",
            "\n",
            "Context:\n",
            "{'Amazon': '', 'A3948594Y': ''}\n",
            "\n",
            "Current conversation:\n",
            "\n",
            "Last line:\n",
            "Human: I have an order on Amazon, the order number is A3948594Y. The product I received has defective packaging. Since this item is intended as a gift, I would like to request an exchange.\n",
            "You:\u001b[0m\n",
            "\n",
            "\u001b[1m> Finished chain.\u001b[0m\n",
            " I understand that you would like to request an exchange for the item you received with defective packaging. I recommend that you contact Amazon customer service directly to discuss your options. They should be able to provide you with more information about how to proceed with your exchange request.\n"
          ]
        }
      ],
      "source": [
        "from langchain.chains import ConversationChain\n",
        "from langchain.memory import ConversationEntityMemory\n",
        "from langchain.memory.prompt import ENTITY_MEMORY_CONVERSATION_TEMPLATE\n",
        "\n",
        "from openai import OpenAI\n",
        "import os\n",
        "\n",
        "client = OpenAI(api_key=os.getenv(\"OPENAI_API_KEY\"))\n",
        "\n",
        "entityMemory = ConversationEntityMemory(llm=llm)\n",
        "conversation = ConversationChain(\n",
        "    llm=llm,\n",
        "    verbose=True,\n",
        "    prompt=ENTITY_MEMORY_CONVERSATION_TEMPLATE,\n",
        "    memory=entityMemory\n",
        ")\n",
        "\n",
        "answer=conversation.predict(input=\"I have an order on Amazon, the order number is A3948594Y. The product I received has defective packaging. Since this item is intended as a gift, I would like to request an exchange.\")\n",
        "print(answer)\n"
      ]
    },
    {
      "cell_type": "code",
      "execution_count": 16,
      "metadata": {},
      "outputs": [
        {
          "name": "stdout",
          "output_type": "stream",
          "text": [
            "{'Amazon': 'Amazon is an online retailer where customers can purchase items and request exchanges for defective products.', 'A3948594Y': 'A3948594Y is an order on Amazon for a product with defective packaging, for which the human is requesting an exchange.'}\n"
          ]
        }
      ],
      "source": [
        "print(conversation.memory.entity_store.store)\n"
      ]
    },
    {
      "cell_type": "code",
      "execution_count": 17,
      "metadata": {},
      "outputs": [
        {
          "name": "stdout",
          "output_type": "stream",
          "text": [
            "\n",
            "\n",
            "\u001b[1m> Entering new ConversationChain chain...\u001b[0m\n",
            "Prompt after formatting:\n",
            "\u001b[32;1m\u001b[1;3mYou are an assistant to a human, powered by a large language model trained by OpenAI.\n",
            "\n",
            "You are designed to be able to assist with a wide range of tasks, from answering simple questions to providing in-depth explanations and discussions on a wide range of topics. As a language model, you are able to generate human-like text based on the input you receive, allowing you to engage in natural-sounding conversations and provide responses that are coherent and relevant to the topic at hand.\n",
            "\n",
            "You are constantly learning and improving, and your capabilities are constantly evolving. You are able to process and understand large amounts of text, and can use this knowledge to provide accurate and informative responses to a wide range of questions. You have access to some personalized information provided by the human in the Context section below. Additionally, you are able to generate your own text based on the input you receive, allowing you to engage in discussions and provide explanations and descriptions on a wide range of topics.\n",
            "\n",
            "Overall, you are a powerful tool that can help with a wide range of tasks and provide valuable insights and information on a wide range of topics. Whether the human needs help with a specific question or just wants to have a conversation about a particular topic, you are here to assist.\n",
            "\n",
            "Context:\n",
            "{}\n",
            "\n",
            "Current conversation:\n",
            "Human: I have an order on Amazon, the order number is A3948594Y. The product I received has defective packaging. Since this item is intended as a gift, I would like to request an exchange.\n",
            "AI:  I understand that you would like to request an exchange for the item you received with defective packaging. I recommend that you contact Amazon customer service directly to discuss your options. They should be able to provide you with more information about how to proceed with your exchange request.\n",
            "Last line:\n",
            "Human: What is the order number for this customer?\n",
            "You:\u001b[0m\n",
            "\n",
            "\u001b[1m> Finished chain.\u001b[0m\n",
            " The order number for this customer is A3948594Y.\n"
          ]
        }
      ],
      "source": [
        "answer=conversation.predict(input=\"What is the order number for this customer?\")\n",
        "print(answer)\n"
      ]
    },
    {
      "cell_type": "code",
      "execution_count": 18,
      "metadata": {},
      "outputs": [
        {
          "name": "stdout",
          "output_type": "stream",
          "text": [
            "\n",
            "\n",
            "\u001b[1m> Entering new ConversationChain chain...\u001b[0m\n",
            "Prompt after formatting:\n",
            "\u001b[32;1m\u001b[1;3mYou are an assistant to a human, powered by a large language model trained by OpenAI.\n",
            "\n",
            "You are designed to be able to assist with a wide range of tasks, from answering simple questions to providing in-depth explanations and discussions on a wide range of topics. As a language model, you are able to generate human-like text based on the input you receive, allowing you to engage in natural-sounding conversations and provide responses that are coherent and relevant to the topic at hand.\n",
            "\n",
            "You are constantly learning and improving, and your capabilities are constantly evolving. You are able to process and understand large amounts of text, and can use this knowledge to provide accurate and informative responses to a wide range of questions. You have access to some personalized information provided by the human in the Context section below. Additionally, you are able to generate your own text based on the input you receive, allowing you to engage in discussions and provide explanations and descriptions on a wide range of topics.\n",
            "\n",
            "Overall, you are a powerful tool that can help with a wide range of tasks and provide valuable insights and information on a wide range of topics. Whether the human needs help with a specific question or just wants to have a conversation about a particular topic, you are here to assist.\n",
            "\n",
            "Context:\n",
            "{'A3948594Y': 'A3948594Y is an order on Amazon for a product with defective packaging, for which the human is requesting an exchange.'}\n",
            "\n",
            "Current conversation:\n",
            "Human: I have an order on Amazon, the order number is A3948594Y. The product I received has defective packaging. Since this item is intended as a gift, I would like to request an exchange.\n",
            "AI:  I understand that you would like to request an exchange for the item you received with defective packaging. I recommend that you contact Amazon customer service directly to discuss your options. They should be able to provide you with more information about how to proceed with your exchange request.\n",
            "Human: What is the order number for this customer?\n",
            "AI:  The order number for this customer is A3948594Y.\n",
            "Last line:\n",
            "Human: What is the issue with the order numbered A3948594Y?\n",
            "You:\u001b[0m\n",
            "\n",
            "\u001b[1m> Finished chain.\u001b[0m\n",
            " The issue with the order numbered A3948594Y is that the product has defective packaging.\n"
          ]
        }
      ],
      "source": [
        "answer=conversation.predict(input=\"What is the issue with the order numbered A3948594Y?\")\n",
        "print(answer)\n"
      ]
    }
  ],
  "metadata": {
    "kernelspec": {
      "display_name": "ai_aesthetics",
      "language": "python",
      "name": "python3"
    },
    "language_info": {
      "codemirror_mode": {
        "name": "ipython",
        "version": 3
      },
      "file_extension": ".py",
      "mimetype": "text/x-python",
      "name": "python",
      "nbconvert_exporter": "python",
      "pygments_lexer": "ipython3",
      "version": "3.10.13"
    }
  },
  "nbformat": 4,
  "nbformat_minor": 2
}
