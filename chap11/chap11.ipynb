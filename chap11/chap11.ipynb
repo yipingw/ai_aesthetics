{
  "cells": [
    {
      "cell_type": "code",
      "execution_count": null,
      "metadata": {},
      "outputs": [],
      "source": [
        "%env OPENAI_API_KEY=<PUT_YOUR_API_KEY_HERE>\n"
      ]
    },
    {
      "cell_type": "code",
      "execution_count": 4,
      "metadata": {},
      "outputs": [],
      "source": [
        "import os\n",
        "from openai import OpenAI\n",
        "import faiss\n",
        "from llama_index import SimpleDirectoryReader, ServiceContext\n",
        "from llama_index.embeddings.langchain import LangchainEmbedding\n",
        "from langchain.embeddings.huggingface import HuggingFaceEmbeddings\n",
        "from llama_index.node_parser import SimpleNodeParser\n",
        "from llama_index.vector_stores.faiss import FaissVectorStore\n",
        "from llama_index import StorageContext, VectorStoreIndex\n",
        "\n",
        "client = OpenAI(api_key=os.getenv(\"OPENAI_API_KEY\"))\n",
        "\n",
        "parser = SimpleNodeParser.from_defaults(separator=\"\\n\\n\", chunk_size=100, chunk_overlap=20)\n",
        "documents = SimpleDirectoryReader('./data/faq/').load_data()\n",
        "nodes = parser.get_nodes_from_documents(documents)\n",
        "\n",
        "embed_model = LangchainEmbedding(HuggingFaceEmbeddings(\n",
        "    model_name=\"sentence-transformers/paraphrase-multilingual-mpnet-base-v2\"\n",
        "))\n",
        "service_context = ServiceContext.from_defaults(embed_model=embed_model)\n",
        "\n",
        "dimension = 768\n",
        "faiss_index = faiss.IndexFlatIP(dimension)\n",
        "vector_store = FaissVectorStore(faiss_index=faiss_index)\n",
        "storage_context = StorageContext.from_defaults(vector_store=vector_store)\n",
        "storage_context.docstore.add_documents(nodes)\n",
        "index = VectorStoreIndex(nodes=nodes, service_context=service_context, storage_context=storage_context)\n"
      ]
    },
    {
      "cell_type": "code",
      "execution_count": 5,
      "metadata": {},
      "outputs": [
        {
          "name": "stdout",
          "output_type": "stream",
          "text": [
            "FBA stands for Fulfillment by Amazon (FBA). With FBA, you send products to Amazon’s fulfillment centers, and they pick, pack, ship, and provide customer service for those products.\n"
          ]
        }
      ],
      "source": [
        "\n",
        "\n",
        "query_index = index.as_query_engine(retriever_mode=\"embedding\")\n",
        "\n",
        "response = query_index.query(\n",
        "    \"What is FBA?\",\n",
        ")\n",
        "print(response)\n"
      ]
    },
    {
      "cell_type": "code",
      "execution_count": 6,
      "metadata": {},
      "outputs": [
        {
          "name": "stdout",
          "output_type": "stream",
          "text": [
            "The possibilities are virtually limitless. What you can sell depends on the product, the product category, and the brand. Some categories are open to all sellers, some require a Professional seller account, some require approval to sell, and some include products that cannot be sold by third-party sellers.\n"
          ]
        }
      ],
      "source": [
        "\n",
        "\n",
        "query_index = index.as_query_engine(retriever_mode=\"embedding\")\n",
        "\n",
        "response = query_index.query(\n",
        "    \"What can I sell?\",\n",
        ")\n",
        "print(response)\n"
      ]
    },
    {
      "cell_type": "code",
      "execution_count": 7,
      "metadata": {},
      "outputs": [
        {
          "name": "stdout",
          "output_type": "stream",
          "text": [
            "Amazon Prime is a program offered by Amazon that provides various benefits to its members. These benefits typically include free and fast shipping on eligible items, access to streaming services for movies, TV shows, and music, as well as exclusive deals and discounts. Additionally, Amazon Prime members may have access to other services such as Prime Video, Prime Music, Prime Reading, and more, depending on their location.\n"
          ]
        }
      ],
      "source": [
        "\n",
        "\n",
        "query_index = index.as_query_engine(retriever_mode=\"embedding\")\n",
        "\n",
        "response = query_index.query(\n",
        "    \"What is Amazon Prime?\",\n",
        ")\n",
        "print(response)\n"
      ]
    },
    {
      "cell_type": "code",
      "execution_count": 1,
      "metadata": {},
      "outputs": [
        {
          "name": "stdout",
          "output_type": "stream",
          "text": [
            "[2023-11-30 12:13:30,404] [INFO] [real_accelerator.py:158:get_accelerator] Setting ds_accelerator to cuda (auto detect)\n"
          ]
        },
        {
          "name": "stderr",
          "output_type": "stream",
          "text": [
            "2023-11-30 12:13:36.315630: W tensorflow/compiler/tf2tensorrt/utils/py_utils.cc:38] TF-TRT Warning: Could not find TensorRT\n"
          ]
        }
      ],
      "source": [
        "import torch\n",
        "from transformers import AutoModelForCausalLM, AutoTokenizer\n",
        "from transformers.generation.utils import GenerationConfig\n",
        "tokenizer = AutoTokenizer.from_pretrained(\"../../../llm/Baichuan2-7B-Chat-4bits\", use_fast=False, trust_remote_code=True)\n",
        "model = AutoModelForCausalLM.from_pretrained(\"../../../llm/Baichuan2-7B-Chat-4bits\", device_map=\"auto\", torch_dtype=torch.bfloat16, trust_remote_code=True)\n",
        "model.generation_config = GenerationConfig.from_pretrained(\"../../../llm/Baichuan2-7B-Chat-4bits\")\n"
      ]
    },
    {
      "cell_type": "code",
      "execution_count": 11,
      "metadata": {},
      "outputs": [
        {
          "name": "stdout",
          "output_type": "stream",
          "text": [
            "As a new seller on Amazon, you can sell various products in different categories. However, certain products may require approval or be restricted to professional sellers. To determine what you can sell, it is important to research available categories, products, and brands.\n"
          ]
        }
      ],
      "source": [
        "messages = []\n",
        "question = \"\"\"\n",
        "There are many opportunities for new sellers in Amazon’s store. What you can sell depends on the product, the category, and the brand. Some categories are open to all sellers while others require a Professional seller account. Certain products require approval to sell and other categories include products that cannot be sold by third-party sellers.\n",
        "Based on the information above, please answer the following questions:\n",
        "Q: What can I sell in Amazon’s store as a new seller?\n",
        "\"\"\"\n",
        "messages.append({\"role\": \"user\", \"content\": question})\n",
        "response = model.chat(tokenizer, messages)\n",
        "print(response)\n"
      ]
    },
    {
      "cell_type": "code",
      "execution_count": 12,
      "metadata": {},
      "outputs": [
        {
          "name": "stdout",
          "output_type": "stream",
          "text": [
            "You can sell various types of products or services, such as:\n",
            "\n",
            "1. Consumer goods: clothing, electronics, home decor, toys, etc.\n",
            "2. Services: cleaning, catering, transportation, entertainment, etc.\n",
            "3. Digital products: eBooks, software, music, videos, etc.\n",
            "4. Artwork and collectibles: paintings, sculptures, antiques, etc.\n",
            "5. Real estate: selling or renting houses, apartments, land, etc.\n",
            "6. Health and beauty products: skincare, hair care, supplements, etc.\n",
            "7. Fitness and sports equipment: gym equipment, running shoes, etc.\n",
            "8. Gifts and novelty items: key chains, mugs, t-shirts, etc.\n",
            "9. Farm and garden products: fruits, vegetables, flowers, etc.\n",
            "10. Local specialty products: regional foods, beverages, etc.\n",
            "\n",
            "It's important to research your target market and find out what they are interested in buying. You can also create custom products based on your skills and interests.\n"
          ]
        }
      ],
      "source": [
        "messages = []\n",
        "question = \"\"\"\n",
        "Q: What can I sell?\n",
        "A:\n",
        "\"\"\"\n",
        "messages.append({\"role\": \"user\", \"content\": question})\n",
        "response = model.chat(tokenizer, messages)\n",
        "print(response)\n"
      ]
    },
    {
      "cell_type": "code",
      "execution_count": 13,
      "metadata": {},
      "outputs": [
        {
          "name": "stdout",
          "output_type": "stream",
          "text": [
            "Yes, books are a best-selling category of products.\n"
          ]
        }
      ],
      "source": [
        "messages = []\n",
        "question = \"\"\"\n",
        "Top selling items on any given day may include books, baby items, electronics, kitchen supplies, outdoor gear—the list goes on. Check out Amazon Best Sellers for an hourly update with the most popular products based on sales.\n",
        "Based on the information above, please answer the following questions:\n",
        "Q: Are books a best-selling category of products?\n",
        "\"\"\"\n",
        "messages.append({\"role\": \"user\", \"content\": question})\n",
        "response = model.chat(tokenizer, messages)\n",
        "print(response)\n"
      ]
    },
    {
      "cell_type": "code",
      "execution_count": 14,
      "metadata": {},
      "outputs": [
        {
          "name": "stdout",
          "output_type": "stream",
          "text": [
            "While toys are definitely a popular category of products, they are not always top sellers on any given day. This depends on various factors such as current trends, seasonal demand, and other factors affecting sales.\n"
          ]
        }
      ],
      "source": [
        "messages = []\n",
        "question = \"\"\"\n",
        "Top selling items on any given day may include books, baby items, electronics, kitchen supplies, outdoor gear—the list goes on. Check out Amazon Best Sellers for an hourly update with the most popular products based on sales.\n",
        "Based on the information above, please answer the following questions:\n",
        "Q: Are toys a best-selling category of products?\n",
        "\"\"\"\n",
        "messages.append({\"role\": \"user\", \"content\": question})\n",
        "response = model.chat(tokenizer, messages)\n",
        "print(response)\n"
      ]
    }
  ],
  "metadata": {
    "kernelspec": {
      "display_name": "ai_aesthetics",
      "language": "python",
      "name": "python3"
    },
    "language_info": {
      "codemirror_mode": {
        "name": "ipython",
        "version": 3
      },
      "file_extension": ".py",
      "mimetype": "text/x-python",
      "name": "python",
      "nbconvert_exporter": "python",
      "pygments_lexer": "ipython3",
      "version": "3.10.13"
    }
  },
  "nbformat": 4,
  "nbformat_minor": 2
}
