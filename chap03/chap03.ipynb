{
 "cells": [
  {
   "cell_type": "code",
   "execution_count": null,
   "metadata": {},
   "outputs": [],
   "source": [
    "%env OPENAI_API_KEY=<PUT_YOUR_API_KEY_HERE>"
   ]
  },
  {
   "cell_type": "code",
   "execution_count": 5,
   "metadata": {},
   "outputs": [
    {
     "name": "stdout",
     "output_type": "stream",
     "text": [
      "Subject: Completion of Sentiment Classification Task with Outstanding Accuracy using OpenAI's Embedding Method\n",
      "\n",
      "Dear Professor [Professor's Last Name],\n",
      "\n",
      "I hope this email finds you well. I am writing to inform you that I have successfully completed the sentiment classification task assigned to me, utilizing OpenAI's Embedding method. I am pleased to share that I have achieved an impressive average accuracy rate of 95% across a dataset of 10,000 reviews.\n",
      "\n",
      "Throughout this project, I dedicated significant time and effort to thoroughly understand and implement the Embedding method. By leveraging OpenAI's powerful tools and resources, I was able to effectively analyze and classify sentiments within a diverse range of reviews.\n",
      "\n",
      "To ensure the accuracy of my results, I carefully preprocessed the dataset by eliminating noise, handling missing values, and addressing any other data inconsistencies. I then trained the sentiment classification model using OpenAI's Embedding method, which allowed me to capture the semantic meaning of the reviews and make accurate predictions.\n",
      "\n",
      "In order to evaluate the performance of the model, I conducted rigorous testing on a separate test set of 10,000 reviews. The achieved average accuracy rate of 95% demonstrates the effectiveness and reliability of the sentiment classification model.\n",
      "\n",
      "I believe that this accomplishment showcases my proficiency in understanding and implementing advanced natural language processing techniques. This project has not only enhanced my knowledge and skills in sentiment analysis but has also provided me with valuable experience in utilizing state-of-the-art tools like OpenAI's Embedding method.\n",
      "\n",
      "I would be more than happy to provide you with any additional details or insights regarding the methodology, experimental setup, or results of this project. Please let me know if there is any specific information you would like me to include or if you would like to discuss the project further.\n",
      "\n",
      "Thank you for your guidance and support throughout this endeavor. I am grateful for the opportunity to work on this sentiment classification task and for the knowledge I have gained from it.\n",
      "\n",
      "Best regards,\n",
      "\n",
      "[Your Name]\n",
      "[Your Student ID]\n"
     ]
    }
   ],
   "source": [
    "from openai import OpenAI\n",
    "import os\n",
    "\n",
    "client = OpenAI(api_key=os.getenv(\"OPENAI_API_KEY\"))\n",
    "\n",
    "# Get Your API Key\n",
    "\n",
    "# Use GPT-3.5 Model\n",
    "CHAT_COMPLETION_MODEL = \"gpt-3.5-turbo\"\n",
    "\n",
    "prompt = \"\"\"\n",
    "    I need to write an email to my professor, telling him that I have completed the sentiment classification task using OpenAI's Embedding method, and have achieved an average accuracy rate of 95% across 10,000 reviews.\n",
    "\"\"\"\n",
    "\n",
    "\n",
    "def get_chat_response(prompt):\n",
    "    response = client.chat.completions.create(model=CHAT_COMPLETION_MODEL,\n",
    "    messages=[{\"role\": \"user\", \"content\": prompt}],\n",
    "    temperature=0.5)\n",
    "    message = response.choices[0].message.content\n",
    "    return message\n",
    "\n",
    "\n",
    "print(get_chat_response(prompt))\n"
   ]
  },
  {
   "cell_type": "code",
   "execution_count": 6,
   "metadata": {},
   "outputs": [
    {
     "name": "stdout",
     "output_type": "stream",
     "text": [
      "Hello, I am a chatbot. Please ask your questions?\n",
      "GAN stands for Generative Adversarial Network. It is a class of machine learning models that consists of two neural networks: a generator and a discriminator. The generator network generates new data instances, such as images, while the discriminator network evaluates the generated data and tries to distinguish it from real data. The two networks are trained simultaneously, with the generator trying to produce more realistic data to fool the discriminator, and the discriminator trying to become better at distinguishing between real and generated data. This adversarial training process leads to the generator improving over time and generating increasingly realistic data. GANs have been successfully used for various tasks, including image generation, text generation, and data synthesis.\n",
      "Goodbye!\n"
     ]
    }
   ],
   "source": [
    "import openai\n",
    "from openai import OpenAI\n",
    "\n",
    "client = OpenAI(api_key=os.getenv(\"OPENAI_API_KEY\"))\n",
    "import os\n",
    "\n",
    "# Get Your API Key\n",
    "\n",
    "# Use Davinci Model\n",
    "CHAT_COMPLETION_MODEL = \"gpt-3.5-turbo\"\n",
    "\n",
    "\n",
    "# Function to send questions to GPT-3 and receive responses\n",
    "def ask_gpt3(messages):\n",
    "    try:\n",
    "        response = client.chat.completions.create(model=CHAT_COMPLETION_MODEL,\n",
    "        messages=messages,  # This is a list of previous interactions\n",
    "        max_tokens=150,\n",
    "        temperature=0.5)\n",
    "        # The new message from the model will be in the response\n",
    "        new_message = response.choices[0].message.content\n",
    "    except openai.OpenAIError as e:\n",
    "        new_message = f\"An error occurred: {e}\"\n",
    "    return new_message.strip()\n",
    "\n",
    "# Generate a list of messages containing all previous questions and answers\n",
    "\n",
    "\n",
    "def generate_messages(questions, answers):\n",
    "    messages = []\n",
    "    for q, a in zip(questions, answers):\n",
    "        messages.append({\"role\": \"user\", \"content\": q})\n",
    "        messages.append({\"role\": \"assistant\", \"content\": a})\n",
    "    # Add the latest question from the user\n",
    "    if questions:\n",
    "        messages.append({\"role\": \"user\", \"content\": questions[-1]})\n",
    "    return messages\n",
    "\n",
    "\n",
    "questions = []\n",
    "answers = []\n",
    "\n",
    "print(\"Hello, I am a chatbot. Please ask your questions?\")\n",
    "\n",
    "while True:\n",
    "    user_input = input(\"> \").strip()\n",
    "    if user_input.lower() in [\"bye\", \"goodbye\", \"exit\"]:\n",
    "        print(\"Goodbye!\")\n",
    "        break\n",
    "\n",
    "    questions.append(user_input)\n",
    "    messages = generate_messages(questions, answers)\n",
    "    answer = ask_gpt3(messages)\n",
    "    print(answer)\n",
    "    answers.append(answer)\n"
   ]
  },
  {
   "cell_type": "code",
   "execution_count": 7,
   "metadata": {},
   "outputs": [
    {
     "name": "stdout",
     "output_type": "stream",
     "text": [
      "Negative\n"
     ]
    }
   ],
   "source": [
    "from openai import OpenAI\n",
    "\n",
    "client = OpenAI(api_key=os.getenv(\"OPENAI_API_KEY\"))\n",
    "import os\n",
    "\n",
    "# Get Your API Key\n",
    "\n",
    "# Use GPT-3.5 Model\n",
    "CHAT_COMPLETION_MODEL = \"gpt-3.5-turbo\"\n",
    "\n",
    "prompts = \"\"\"Determine whether the sentiment of the user's comment is positive or negative.\n",
    "Review：Overall, packaging was very nice. Purchased this as a gift for a kid's birthday party. Loved the detachable book on the front of the box. The kid should be extremely pleased with the item.\n",
    "Sentiment：Positive\n",
    "\n",
    "Review：I purchased this product for a birthday gift. The Lego box was shipped in a bag and the box was all dented and damaged. No time to make a return as it was a gift.\n",
    "Sentiment：Negative\n",
    "\"\"\"\n",
    "\n",
    "negative_review = prompts + \"\"\"\n",
    "Review：Several broke on the first day - many of the blocks are oddly shaped. Do yourself a favor and buy real Duplos, those last forever.\n",
    "Sentiment：\n",
    "\"\"\"\n",
    "\n",
    "\n",
    "def get_response(prompt):\n",
    "    response = client.chat.completions.create(model=CHAT_COMPLETION_MODEL,\n",
    "    messages=[{\"role\": \"user\", \"content\": prompt}],\n",
    "    temperature=0.5)\n",
    "    message = response.choices[0].message.content\n",
    "    return message\n",
    "\n",
    "\n",
    "print(get_response(negative_review))\n"
   ]
  },
  {
   "cell_type": "code",
   "execution_count": 8,
   "metadata": {},
   "outputs": [
    {
     "name": "stdout",
     "output_type": "stream",
     "text": [
      "Positive\n"
     ]
    }
   ],
   "source": [
    "from openai import OpenAI\n",
    "\n",
    "client = OpenAI(api_key=os.getenv(\"OPENAI_API_KEY\"))\n",
    "import os\n",
    "\n",
    "# Get Your API Key\n",
    "\n",
    "# Use GPT-3.5 Model\n",
    "CHAT_COMPLETION_MODEL = \"gpt-3.5-turbo\"\n",
    "\n",
    "prompts = \"\"\"Determine whether the sentiment of the user's comment is positive or negative.\n",
    "Review：Overall, packaging was very nice. Purchased this as a gift for a kid's birthday party. Loved the detachable book on the front of the box. The kid should be extremely pleased with the item.\n",
    "Sentiment：Positive\n",
    "\n",
    "Review：I purchased this product for a birthday gift. The Lego box was shipped in a bag and the box was all dented and damaged. No time to make a return as it was a gift.\n",
    "Sentiment：Negative\n",
    "\"\"\"\n",
    "\n",
    "positive_review = prompts + \"\"\"\n",
    "Review：These work perfectly with Duplo blocks and include a variety of shapes and colors.\n",
    "Sentiment:\n",
    "\"\"\"\n",
    "\n",
    "\n",
    "def get_response(prompt):\n",
    "    response = client.chat.completions.create(model=CHAT_COMPLETION_MODEL,\n",
    "    messages=[{\"role\": \"user\", \"content\": prompt}],\n",
    "    temperature=0.5)\n",
    "    message = response.choices[0].message.content\n",
    "    return message\n",
    "\n",
    "\n",
    "print(get_response(positive_review))\n"
   ]
  }
 ],
 "metadata": {
  "kernelspec": {
   "display_name": "ai_aesthetics",
   "language": "python",
   "name": "python3"
  },
  "language_info": {
   "codemirror_mode": {
    "name": "ipython",
    "version": 3
   },
   "file_extension": ".py",
   "mimetype": "text/x-python",
   "name": "python",
   "nbconvert_exporter": "python",
   "pygments_lexer": "ipython3",
   "version": "3.10.13"
  }
 },
 "nbformat": 4,
 "nbformat_minor": 2
}
