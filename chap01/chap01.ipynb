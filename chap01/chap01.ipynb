{
 "cells": [
  {
   "cell_type": "code",
   "execution_count": null,
   "metadata": {},
   "outputs": [],
   "source": [
    "%env OPENAI_API_KEY=<PUT_YOUR_OPENAI_API_KEY_HERE>"
   ]
  },
  {
   "cell_type": "code",
   "execution_count": 3,
   "metadata": {},
   "outputs": [
    {
     "name": "stdout",
     "output_type": "stream",
     "text": [
      "\n",
      "{\n",
      "    \"title\": \"LEGO Star Wars Advent Calendar 75366\",\n",
      "    \"selling_points\": [\n",
      "        \"9 Star Wars characters and 15 mini building toys\",\n",
      "        \"Discover new experiences and daily collectible surprises\",\n",
      "        \"Perfect Christmas holiday countdown gift idea\",\n",
      "        \"Buildable calendar with 24 secret compartments\",\n",
      "        \"Includes a foldout playmat for creative play\",\n",
      "        \"Features iconic Star Wars characters and vehicles\",\n",
      "        \"A great way to get into the festive spirit\",\n",
      "        \"Ideal for ages 6 and up\"\n",
      "    ],\n",
      "    \"information\": \"This LEGO Star Wars Advent Calendar 75366 is the perfect Christmas holiday countdown gift idea. It includes 9 Star Wars characters and 15 mini building toys, as well as 24 secret compartments to discover new experiences and daily collectible surprises. The set also includes a foldout playmat for creative play, featuring iconic Star Wars characters and vehicles. It's a great way to get into the festive spirit and is ideal for ages 6 and up.\"\n",
      "}\n"
     ]
    }
   ],
   "source": [
    "import os\n",
    "from openai import OpenAI\n",
    "\n",
    "client = OpenAI(api_key=os.getenv(\"OPENAI_API_KEY\"))\n",
    "\n",
    "\n",
    "\n",
    "COMPLETION_MODEL = \"text-davinci-003\"\n",
    "\n",
    "prompt = \"\"\"\n",
    "Consideration product : LEGO Star Wars 2023 Advent Calendar 75366 Christmas Holiday Countdown Gift Idea with 9 Star Wars Characters and 15 Mini Building Toys,\n",
    "Discover New Experiences and Daily Collectible Surprises\n",
    "1. Refine the product title, keeping the text within 15 words..\n",
    "2. Provide 8 selling points for this product in Amazon.\n",
    "3. Describe this product's information in Amazon..\n",
    "Output the result in json format with three properties: title, selling_points and information.\n",
    "\"\"\"\n",
    "\n",
    "\n",
    "def get_response(prompt):\n",
    "    completions = client.completions.create(model=COMPLETION_MODEL,\n",
    "    prompt=prompt,\n",
    "    max_tokens=512,\n",
    "    n=1,\n",
    "    stop=None,\n",
    "    temperature=0.0)\n",
    "    message = completions.choices[0].text\n",
    "    return message\n",
    "\n",
    "print(get_response(prompt))"
   ]
  }
 ],
 "metadata": {
  "kernelspec": {
   "display_name": "ai_aesthetics",
   "language": "python",
   "name": "python3"
  },
  "language_info": {
   "codemirror_mode": {
    "name": "ipython",
    "version": 3
   },
   "file_extension": ".py",
   "mimetype": "text/x-python",
   "name": "python",
   "nbconvert_exporter": "python",
   "pygments_lexer": "ipython3",
   "version": "3.10.13"
  }
 },
 "nbformat": 4,
 "nbformat_minor": 2
}
